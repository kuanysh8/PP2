{
 "cells": [
  {
   "cell_type": "markdown",
   "metadata": {},
   "source": [
    "Create music player with keyboard controller. You have to be able to press keyboard: play, stop, next and previous as some keys. Player has to react to the given command appropriately."
   ]
  },
  {
   "cell_type": "code",
   "execution_count": null,
   "metadata": {},
   "outputs": [
    {
     "name": "stdout",
     "output_type": "stream",
     "text": [
      "pygame 2.6.1 (SDL 2.28.4, Python 3.9.6)\n",
      "Hello from the pygame community. https://www.pygame.org/contribute.html\n"
     ]
    },
    {
     "ename": "KeyboardInterrupt",
     "evalue": "",
     "output_type": "error",
     "traceback": [
      "\u001b[1;31m---------------------------------------------------------------------------\u001b[0m",
      "\u001b[1;31mKeyboardInterrupt\u001b[0m                         Traceback (most recent call last)",
      "Cell \u001b[1;32mIn[1], line 39\u001b[0m\n\u001b[0;32m     36\u001b[0m run \u001b[38;5;241m=\u001b[39m \u001b[38;5;28;01mTrue\u001b[39;00m\n\u001b[0;32m     38\u001b[0m \u001b[38;5;28;01mwhile\u001b[39;00m run:\n\u001b[1;32m---> 39\u001b[0m     \u001b[38;5;28;01mfor\u001b[39;00m event \u001b[38;5;129;01min\u001b[39;00m pygame\u001b[38;5;241m.\u001b[39mevent\u001b[38;5;241m.\u001b[39mget():\n\u001b[0;32m     40\u001b[0m         \u001b[38;5;28;01mif\u001b[39;00m event\u001b[38;5;241m.\u001b[39mtype \u001b[38;5;241m==\u001b[39m pygame\u001b[38;5;241m.\u001b[39mQUIT:\n\u001b[0;32m     41\u001b[0m             run \u001b[38;5;241m=\u001b[39m \u001b[38;5;28;01mFalse\u001b[39;00m\n",
      "\u001b[1;31mKeyboardInterrupt\u001b[0m: "
     ]
    },
    {
     "ename": "",
     "evalue": "",
     "output_type": "error",
     "traceback": [
      "\u001b[1;31mThe Kernel crashed while executing code in the current cell or a previous cell. \n",
      "\u001b[1;31mPlease review the code in the cell(s) to identify a possible cause of the failure. \n",
      "\u001b[1;31mClick <a href='https://aka.ms/vscodeJupyterKernelCrash'>here</a> for more info. \n",
      "\u001b[1;31mView Jupyter <a href='command:jupyter.viewOutput'>log</a> for further details."
     ]
    }
   ],
   "source": [
    "import pygame\n",
    "import os\n",
    "\n",
    "pygame.init()\n",
    "\n",
    "playlist = []\n",
    "music_folder = \"musics\"\n",
    "allmusic = os.listdir(music_folder)\n",
    "\n",
    "for song in allmusic:\n",
    "    if song.endswith(\".mp3\"):\n",
    "        playlist.append(os.path.join(music_folder, song))\n",
    "screen = pygame.display.set_mode((800, 800))\n",
    "pygame.display.set_caption(\"Music\")\n",
    "clock = pygame.time.Clock()\n",
    "\n",
    "background = pygame.image.load(os.path.join(\"music-elements\", \"background.png\"))\n",
    "\n",
    "bg = pygame.Surface((500, 200))\n",
    "bg.fill((255, 255, 255))\n",
    "\n",
    "font2 = pygame.font.SysFont(None, 20)\n",
    "\n",
    "playb = pygame.image.load(os.path.join(\"music-elements\", \"play.png\"))\n",
    "pausb = pygame.image.load(os.path.join(\"music-elements\", \"pause.png\"))\n",
    "nextb = pygame.image.load(os.path.join(\"music-elements\", \"next.png\"))\n",
    "prevb = pygame.image.load(os.path.join(\"music-elements\", \"back.png\"))\n",
    "\n",
    "index = 0\n",
    "aplay = False\n",
    "\n",
    "pygame.mixer.music.load(playlist[index])\n",
    "pygame.mixer.music.play(1)\n",
    "aplay = True\n",
    "\n",
    "run = True\n",
    "\n",
    "while run:\n",
    "    for event in pygame.event.get():\n",
    "        if event.type == pygame.QUIT:\n",
    "            run = False\n",
    "            pygame.quit()\n",
    "            exit()\n",
    "        elif event.type == pygame.KEYDOWN:\n",
    "            if event.key == pygame.K_SPACE:\n",
    "                if aplay:\n",
    "                    aplay = False\n",
    "                    pygame.mixer.music.pause()\n",
    "                else:\n",
    "                    aplay = True\n",
    "                    pygame.mixer.music.unpause()\n",
    "\n",
    "            if event.key == pygame.K_RIGHT:\n",
    "                index = (index + 1) % len(playlist)\n",
    "                pygame.mixer.music.load(playlist[index])\n",
    "                pygame.mixer.music.play()\n",
    "            if event.key == pygame.K_LEFT:\n",
    "                index = (index - 1) % len(playlist)\n",
    "                pygame.mixer.music.load(playlist[index])\n",
    "                pygame.mixer.music.play()\n",
    "\n",
    "text2 = font2.render(os.path.basename(playlist[index]), True, (20, 20, 50))\n",
    "\n",
    "screen.blit(background, (-50, 0))\n",
    "screen.blit(bg, (155, 500))\n",
    "screen.blit(text2, (365, 520))\n",
    "playb = pygame.transform.scale(playb, (70, 70))\n",
    "pausb = pygame. transform.scale(paysb, (70, 70))\n",
    "if aplay:\n",
    "    screen.blit(pausb, (370, 590))\n",
    "else:\n",
    "    screen.blit(playb, (370, 590))\n",
    "nextb = pygame.transform.scale(nextb, (70, 70))\n",
    "screen.blit(nextb, (460, 587))\n",
    "prevb = pygame.transform.scale(prevb, (75, 75))\n",
    "screen.blit(prevb, (273, 585))\n",
    "\n",
    "clock.tick(24)\n",
    "pygame.display.update()"
   ]
  }
 ],
 "metadata": {
  "kernelspec": {
   "display_name": "Python 3",
   "language": "python",
   "name": "python3"
  },
  "language_info": {
   "codemirror_mode": {
    "name": "ipython",
    "version": 3
   },
   "file_extension": ".py",
   "mimetype": "text/x-python",
   "name": "python",
   "nbconvert_exporter": "python",
   "pygments_lexer": "ipython3",
   "version": "3.9.6"
  }
 },
 "nbformat": 4,
 "nbformat_minor": 2
}
