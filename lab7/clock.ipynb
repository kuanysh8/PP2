{
 "cells": [
  {
   "cell_type": "markdown",
   "metadata": {},
   "source": [
    "Create a simple clock application (only with minutes and seconds) which is synchronized with system clock. Use Mickey's right hand as minutes arrow and left - as seconds. For moving Mickey's hands you can use: pygame.transform.rotate"
   ]
  },
  {
   "cell_type": "code",
   "execution_count": 1,
   "metadata": {},
   "outputs": [
    {
     "name": "stdout",
     "output_type": "stream",
     "text": [
      "pygame 2.6.1 (SDL 2.28.4, Python 3.9.6)\n",
      "Hello from the pygame community. https://www.pygame.org/contribute.html\n"
     ]
    }
   ],
   "source": [
    "import pygame\n",
    "import time\n",
    "import math\n",
    "pygame.init()\n",
    "\n",
    "screen = pygame.display.set_mode((800, 600))\n",
    "clock = pygame.time.Clock()\n",
    "\n",
    "pygame.display.set_caption(\"Mickey clock\")\n",
    "\n",
    "leftarm = pygame.image.load(\"leftarm.png\")\n",
    "rightarm = pygame.image.load(\"rightarm.png\")\n",
    "mainclock = pygame.transform.scale(pygame.image.load(\"clock.png\"), (800, 600))\n",
    "\n",
    "done = False\n",
    "\n",
    "while not done:\n",
    "    for event in pygame.event.get():\n",
    "        if event.type == pygame.QUIT:\n",
    "            done = True\n",
    "    current_time = time.localtime()\n",
    "    minute = current_time.tm_min\n",
    "    second = current_time.tm_sec\n",
    "\n",
    "    minut_angle = minute * 6 + (second / 60) * 6\n",
    "    second_angle = second * 6\n",
    "\n",
    "    screen.blit(mainclock, (0,0))\n",
    "\n",
    "    rotated_rightarm = pygame.transform.rotate(pygame.transform.scale(rightarm, (800, 600)), -minut_angle)\n",
    "    rightarmrect = rotated_rightarm.get_rect(center=(800 // 2, 600 // 2 + 12))\n",
    "    screen.blit(rotated_rightarm, rightarmrect)\n",
    "\n",
    "    rotated_leftarm = pygame.transform.rotate(pygame.transform.scale(leftarm, (40.95, 682.5)), -second_angle)\n",
    "    leftarmrect = rotated_leftarm.get_rect(center=(800 // 2, 600 // 2 +10))\n",
    "    screen.blit(rotated_leftarm, leftarmrect)\n",
    "\n",
    "    pygame.display.flip()\n",
    "    clock.tick(60)\n",
    "\n",
    "pygame.quit()"
   ]
  }
 ],
 "metadata": {
  "kernelspec": {
   "display_name": "Python 3",
   "language": "python",
   "name": "python3"
  },
  "language_info": {
   "codemirror_mode": {
    "name": "ipython",
    "version": 3
   },
   "file_extension": ".py",
   "mimetype": "text/x-python",
   "name": "python",
   "nbconvert_exporter": "python",
   "pygments_lexer": "ipython3",
   "version": "3.9.6"
  }
 },
 "nbformat": 4,
 "nbformat_minor": 2
}
