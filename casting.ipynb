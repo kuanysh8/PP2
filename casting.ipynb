{
 "cells": [
  {
   "cell_type": "code",
   "execution_count": 1,
   "metadata": {},
   "outputs": [],
   "source": [
    "#Example 1\n",
    "x = int(1) # x will be 1\n",
    "y = int(2.8) # y will be 2\n",
    "z = int(\"3\")  # z will be 3"
   ]
  },
  {
   "cell_type": "code",
   "execution_count": 2,
   "metadata": {},
   "outputs": [],
   "source": [
    "#Example 2\n",
    "x = float(1)   # x will be 1.0\n",
    "y = float(2.8)  # y will be 2.8\n",
    "z = float(\"3\")  # z will be 3.0\n",
    "w = float(\"4.2\")  # w will be 4.2"
   ]
  },
  {
   "cell_type": "code",
   "execution_count": 3,
   "metadata": {},
   "outputs": [],
   "source": [
    "#Example 3\n",
    "x = str(\"s1\")  # x will be 's1'\n",
    "y = str(2)     # y will be '2' \n",
    "z = str(3.0)   # z will be '3.0' "
   ]
  }
 ],
 "metadata": {
  "kernelspec": {
   "display_name": "Python 3",
   "language": "python",
   "name": "python3"
  },
  "language_info": {
   "codemirror_mode": {
    "name": "ipython",
    "version": 3
   },
   "file_extension": ".py",
   "mimetype": "text/x-python",
   "name": "python",
   "nbconvert_exporter": "python",
   "pygments_lexer": "ipython3",
   "version": "3.9.6"
  }
 },
 "nbformat": 4,
 "nbformat_minor": 2
}
