{
 "cells": [
  {
   "cell_type": "markdown",
   "metadata": {},
   "source": [
    "1. Write a Python program that matches a string that has an 'a' followed by zero or more 'b''s."
   ]
  },
  {
   "cell_type": "code",
   "execution_count": 2,
   "metadata": {},
   "outputs": [
    {
     "name": "stdout",
     "output_type": "stream",
     "text": [
      "True\n"
     ]
    }
   ],
   "source": [
    "import re\n",
    "def match_ab(string):\n",
    "    return bool(re.fullmatch(r'ab*', string))\n",
    "print(match_ab(\"abbb\"))"
   ]
  },
  {
   "cell_type": "markdown",
   "metadata": {},
   "source": [
    "2. Write a Python program that matches a string that has an 'a' followed by two to three 'b'."
   ]
  },
  {
   "cell_type": "code",
   "execution_count": 3,
   "metadata": {},
   "outputs": [
    {
     "name": "stdout",
     "output_type": "stream",
     "text": [
      "True\n"
     ]
    }
   ],
   "source": [
    "import re\n",
    "def match_a_bbb(string):\n",
    "    return bool(re.fullmatch(r'ab{2,3}', string))\n",
    "print(match_a_bbb(\"abb\"))"
   ]
  },
  {
   "cell_type": "markdown",
   "metadata": {},
   "source": [
    "3. Write a Python program to find sequences of lowercase letters joined with an underscore."
   ]
  },
  {
   "cell_type": "code",
   "execution_count": 19,
   "metadata": {},
   "outputs": [
    {
     "name": "stdout",
     "output_type": "stream",
     "text": [
      "['hello_world', 'test_example']\n"
     ]
    }
   ],
   "source": [
    "import re\n",
    "def find_underscore(string):\n",
    "    return re.findall(r'\\b[a-z]+_[a-z]+\\b', string)\n",
    "print(find_underscore(\"hello_world test_example\"))"
   ]
  },
  {
   "cell_type": "markdown",
   "metadata": {},
   "source": [
    "4. Write a Python program to find the sequences of one upper case letter followed by lower case letters."
   ]
  },
  {
   "cell_type": "code",
   "execution_count": 11,
   "metadata": {},
   "outputs": [
    {
     "name": "stdout",
     "output_type": "stream",
     "text": [
      "['Hello', 'World', 'Test']\n"
     ]
    }
   ],
   "source": [
    "import re\n",
    "def find_upper_lower(string):\n",
    "    return re.findall(r'[A-Z][a-z]+', string)\n",
    "print(find_upper_lower(\"HelloWorld Test\"))"
   ]
  },
  {
   "cell_type": "markdown",
   "metadata": {},
   "source": [
    "5. Write a Python program that matches a string that has an 'a' followed by anything, ending in 'b'."
   ]
  },
  {
   "cell_type": "code",
   "execution_count": 13,
   "metadata": {},
   "outputs": [
    {
     "name": "stdout",
     "output_type": "stream",
     "text": [
      "True\n"
     ]
    }
   ],
   "source": [
    "import re\n",
    "def match_a_any_b(string):\n",
    "    return bool(re.fullmatch(r'a.*b', string))\n",
    "print(match_a_any_b(\"acb\"))"
   ]
  },
  {
   "cell_type": "markdown",
   "metadata": {},
   "source": [
    "6. Write a Python program to replace all occurrences of space, comma, or dot with a colon."
   ]
  },
  {
   "cell_type": "code",
   "execution_count": 14,
   "metadata": {},
   "outputs": [
    {
     "name": "stdout",
     "output_type": "stream",
     "text": [
      "Hello::world::Welcome:to:Python\n"
     ]
    }
   ],
   "source": [
    "import re\n",
    "def replace_with_colon(string):\n",
    "    return re.sub(r'[ ,.]', ':', string)\n",
    "print(replace_with_colon(\"Hello, world. Welcome to Python\"))"
   ]
  },
  {
   "cell_type": "markdown",
   "metadata": {},
   "source": [
    "7. Write a python program to convert snake case string to camel case string."
   ]
  },
  {
   "cell_type": "code",
   "execution_count": 15,
   "metadata": {},
   "outputs": [
    {
     "name": "stdout",
     "output_type": "stream",
     "text": [
      "helloWorld\n"
     ]
    }
   ],
   "source": [
    "import re\n",
    "def snake_to_camel(string):\n",
    "    return re.sub(r'_([a-z])', lambda match: match.group(1).upper(), string)\n",
    "print(snake_to_camel(\"hello_world\"))"
   ]
  },
  {
   "cell_type": "markdown",
   "metadata": {},
   "source": [
    "8. Write a Python program to split a string at uppercase letters."
   ]
  },
  {
   "cell_type": "code",
   "execution_count": 16,
   "metadata": {},
   "outputs": [
    {
     "name": "stdout",
     "output_type": "stream",
     "text": [
      "['', 'Hello', 'World', 'Test']\n"
     ]
    }
   ],
   "source": [
    "import re\n",
    "def split_at_uppercase(string):\n",
    "    return re.split(r'(?=[A-Z])', string)\n",
    "print(split_at_uppercase(\"HelloWorldTest\"))"
   ]
  },
  {
   "cell_type": "markdown",
   "metadata": {},
   "source": [
    "9. Write a Python program to insert spaces between words starting with capital letters."
   ]
  },
  {
   "cell_type": "code",
   "execution_count": 17,
   "metadata": {},
   "outputs": [
    {
     "name": "stdout",
     "output_type": "stream",
     "text": [
      "Hello World Test\n"
     ]
    }
   ],
   "source": [
    "import re\n",
    "def insert_spaces(string):\n",
    "    return re.sub(r'(?<!^)(?=[A-Z])', ' ', string)\n",
    "print(insert_spaces(\"HelloWorldTest\"))"
   ]
  },
  {
   "cell_type": "markdown",
   "metadata": {},
   "source": [
    "10. Write a Python program to convert a given camel case string to snake case."
   ]
  },
  {
   "cell_type": "code",
   "execution_count": 18,
   "metadata": {},
   "outputs": [
    {
     "name": "stdout",
     "output_type": "stream",
     "text": [
      "hello_world_test\n"
     ]
    }
   ],
   "source": [
    "import re\n",
    "def camel_to_snake(string):\n",
    "    return re.sub(r'([a-z])([A-Z])', r'\\1_\\2', string).lower()\n",
    "print(camel_to_snake(\"HelloWorldTest\"))"
   ]
  }
 ],
 "metadata": {
  "kernelspec": {
   "display_name": "Python 3",
   "language": "python",
   "name": "python3"
  },
  "language_info": {
   "codemirror_mode": {
    "name": "ipython",
    "version": 3
   },
   "file_extension": ".py",
   "mimetype": "text/x-python",
   "name": "python",
   "nbconvert_exporter": "python",
   "pygments_lexer": "ipython3",
   "version": "3.9.6"
  }
 },
 "nbformat": 4,
 "nbformat_minor": 2
}
