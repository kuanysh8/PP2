{
 "cells": [
  {
   "cell_type": "markdown",
   "metadata": {},
   "source": [
    "1. Write a Python program with builtin function to multiply all the numbers in a list"
   ]
  },
  {
   "cell_type": "code",
   "execution_count": 2,
   "metadata": {},
   "outputs": [
    {
     "name": "stdout",
     "output_type": "stream",
     "text": [
      "Multiplied numbers og the list: 120\n"
     ]
    }
   ],
   "source": [
    "import math\n",
    "def multiply_list(numbers):\n",
    "    return math.prod(numbers)\n",
    "num_list = [1, 2, 3, 4, 5]\n",
    "result = multiply_list(num_list)\n",
    "print(\"Multiplied numbers og the list:\", result)"
   ]
  },
  {
   "cell_type": "markdown",
   "metadata": {},
   "source": [
    "2. Write a Python program with builtin function that accepts a string and calculate the number of upper case letters and lower case letters"
   ]
  },
  {
   "cell_type": "code",
   "execution_count": 4,
   "metadata": {},
   "outputs": [
    {
     "name": "stdout",
     "output_type": "stream",
     "text": [
      "The number of upper case letters:  2\n",
      "The number of lower case letter:  8\n"
     ]
    }
   ],
   "source": [
    "def count_case(s):\n",
    "    upper_case = sum(1 for char in s if char.isupper())\n",
    "    lower_case = sum(1 for char in s if char.islower())\n",
    "    return upper_case, lower_case\n",
    "string = input()\n",
    "upper, lower = count_case(string)\n",
    "print(\"The number of upper case letters: \", upper)\n",
    "print(\"The number of lower case letter: \", lower)\n",
    "#The input: \"Hello World\""
   ]
  },
  {
   "cell_type": "markdown",
   "metadata": {},
   "source": [
    "3. Write a Python program with builtin function that checks whether a passed string is palindrome or not."
   ]
  },
  {
   "cell_type": "code",
   "execution_count": null,
   "metadata": {},
   "outputs": [
    {
     "name": "stdout",
     "output_type": "stream",
     "text": [
      "Your string is not a palindrome\n"
     ]
    }
   ],
   "source": [
    "def is_palindrome(s: str) -> bool:\n",
    "    return s == s[::-1]\n",
    "string = input(\"Enter your string: \").strip().lower()\n",
    "if is_palindrome(string):\n",
    "    print(\"Your string is palindrome\")\n",
    "else:\n",
    "    print(\"Your string is not a palindrome\")\n",
    "#The input: \"Python\""
   ]
  },
  {
   "cell_type": "markdown",
   "metadata": {},
   "source": [
    "4. Write a Python program that invoke square root function after specific milliseconds."
   ]
  },
  {
   "cell_type": "code",
   "execution_count": 6,
   "metadata": {},
   "outputs": [
    {
     "name": "stdout",
     "output_type": "stream",
     "text": [
      "The square root of 25100.0 after 2123 miliseconds is 158.42979517754858\n"
     ]
    }
   ],
   "source": [
    "import math\n",
    "import time\n",
    "def delayed_sqrt(number : float, delay : int):\n",
    "    time.sleep(delay / 1000)\n",
    "    result = math.sqrt(number)\n",
    "    print(f\"The square root of {number} after {delay} miliseconds is {result}\")\n",
    "num = float(input(\"Enter your number: \"))\n",
    "delay_mls = int(input(\"Enter the delay: \"))\n",
    "delayed_sqrt(num, delay_mls)\n"
   ]
  },
  {
   "cell_type": "markdown",
   "metadata": {},
   "source": [
    "5. Write a Python program with builtin function that returns True if all elements of the tuple are true."
   ]
  },
  {
   "cell_type": "code",
   "execution_count": 7,
   "metadata": {},
   "outputs": [
    {
     "name": "stdout",
     "output_type": "stream",
     "text": [
      "True\n"
     ]
    }
   ],
   "source": [
    "def all_elements_true(t: tuple) -> bool:\n",
    "    return all(t)\n",
    "example_tuple = [True, 1, \"Python\", [1,2, 3]]\n",
    "print(all_elements_true(example_tuple))"
   ]
  }
 ],
 "metadata": {
  "kernelspec": {
   "display_name": "Python 3",
   "language": "python",
   "name": "python3"
  },
  "language_info": {
   "codemirror_mode": {
    "name": "ipython",
    "version": 3
   },
   "file_extension": ".py",
   "mimetype": "text/x-python",
   "name": "python",
   "nbconvert_exporter": "python",
   "pygments_lexer": "ipython3",
   "version": "3.9.6"
  }
 },
 "nbformat": 4,
 "nbformat_minor": 2
}
