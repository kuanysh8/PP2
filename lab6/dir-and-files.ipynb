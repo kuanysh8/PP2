{
 "cells": [
  {
   "cell_type": "markdown",
   "metadata": {},
   "source": [
    "1. Write a Python program to list only directories, files and all directories, files in a specified path."
   ]
  },
  {
   "cell_type": "code",
   "execution_count": 1,
   "metadata": {},
   "outputs": [
    {
     "name": "stdout",
     "output_type": "stream",
     "text": [
      "Directories:\n",
      ".git\n",
      "lab\n",
      "lab3\n",
      "lab4\n",
      "lab5\n",
      "lab6\n",
      "\n",
      "Files:\n",
      "\n",
      "All items (directories and files):\n",
      ".git\n",
      "lab\n",
      "lab3\n",
      "lab4\n",
      "lab5\n",
      "lab6\n"
     ]
    }
   ],
   "source": [
    "import os\n",
    "def list_items(path):\n",
    "    print(\"Directories:\")\n",
    "    for item in os.listdir(path):\n",
    "        if os.path.isdir(os.path.join(path, item)):\n",
    "            print(item)\n",
    "    print(\"\\nFiles:\")\n",
    "    for item in os.listdir(path):\n",
    "        if os.path.isfile(os.path.join(path, item)):\n",
    "            print(item)\n",
    "    print(\"\\nAll items (directories and files):\")\n",
    "    for item in os.listdir(path):\n",
    "        print(item)\n",
    "path = input(\"Enter a path\")\n",
    "list_items(path)"
   ]
  },
  {
   "cell_type": "markdown",
   "metadata": {},
   "source": [
    "2. Write a Python program to check for access to a specified path. Test the existence, readability, writability and executability of the specified path"
   ]
  },
  {
   "cell_type": "code",
   "execution_count": 3,
   "metadata": {},
   "outputs": [
    {
     "name": "stdout",
     "output_type": "stream",
     "text": [
      "Exists: True\n",
      "Readable: True\n",
      "Writeable: True\n",
      "Executable: True\n"
     ]
    }
   ],
   "source": [
    "import os\n",
    "def acces_check(path):\n",
    "    print(f\"Exists: {os.path.exists(path)}\")\n",
    "    print(f\"Readable: {os.access(path, os.R_OK)}\")\n",
    "    print(f\"Writeable: {os.access(path, os.W_OK)}\")\n",
    "    print(f\"Executable: {os.access(path, os.X_OK)}\")\n",
    "path = input(\"Enter a path\")\n",
    "acces_check(path)"
   ]
  },
  {
   "cell_type": "markdown",
   "metadata": {},
   "source": [
    "3. Write a Python program to test whether a given path exists or not. If the path exist find the filename and directory portion of the given path."
   ]
  },
  {
   "cell_type": "code",
   "execution_count": 5,
   "metadata": {},
   "outputs": [
    {
     "name": "stdout",
     "output_type": "stream",
     "text": [
      "The path 'C:\\Users\\admin\\pp2' exists\n",
      "Directory: C:\\Users\\admin\n",
      "Filename: pp2\n"
     ]
    }
   ],
   "source": [
    "import os\n",
    "def path_check(path):\n",
    "    if os.path.exists(path):\n",
    "        print(f\"The path '{path}' exists\")\n",
    "        print(f\"Directory: {os.path.dirname(path)}\")\n",
    "        print(f\"Filename: {os.path.basename(path)}\")\n",
    "    else:\n",
    "        print(f\"The path '{path}' does not exist\")\n",
    "path = input(\"Enter a path\")\n",
    "path_check(path)"
   ]
  },
  {
   "cell_type": "markdown",
   "metadata": {},
   "source": [
    "4. Write a Python program to count the number of lines in a text file."
   ]
  },
  {
   "cell_type": "code",
   "execution_count": 18,
   "metadata": {},
   "outputs": [
    {
     "name": "stdout",
     "output_type": "stream",
     "text": [
      "Number of lines: 5\n"
     ]
    }
   ],
   "source": [
    "def count_lines(path):\n",
    "    with open(path, 'r') as file:\n",
    "        return len(file.readlines())\n",
    "path = \"a.txt\"\n",
    "print(f\"Number of lines: {count_lines(path)}\")"
   ]
  },
  {
   "cell_type": "markdown",
   "metadata": {},
   "source": [
    "5. Write a Python program to write a list to a file."
   ]
  },
  {
   "cell_type": "code",
   "execution_count": 19,
   "metadata": {},
   "outputs": [],
   "source": [
    "def write_list(path, data):\n",
    "    with open(path, 'w') as file:\n",
    "        for item in data:\n",
    "            file.write(f\"{item}\\n\")\n",
    "path = \"b.txt\"\n",
    "data = [\"Apple\", \"Cherry\", \"Grape\"]\n",
    "write_list(path, data)"
   ]
  },
  {
   "cell_type": "markdown",
   "metadata": {},
   "source": [
    "6. Write a Python program to generate 26 text files named A.txt, B.txt, and so on up to Z.txt"
   ]
  },
  {
   "cell_type": "code",
   "execution_count": 15,
   "metadata": {},
   "outputs": [],
   "source": [
    "import string\n",
    "def generate_files():\n",
    "    for letter in string.ascii_uppercase:\n",
    "        with open(f\"{letter}.txt\", 'w') as file:\n",
    "            file.write(f\"This is file {letter}.txt\")\n",
    "generate_files()"
   ]
  },
  {
   "cell_type": "markdown",
   "metadata": {},
   "source": [
    "7. Write a Python program to copy the contents of a file to another file"
   ]
  },
  {
   "cell_type": "code",
   "execution_count": 20,
   "metadata": {},
   "outputs": [],
   "source": [
    "def copy_file(src_path, dstn_path):\n",
    "    with open(src_path, 'r') as source, open(dstn_path, 'w') as destination:\n",
    "        destination.write(source.read())\n",
    "src_path = \"a.txt\"\n",
    "dstn_path = \"copy.txt\"\n",
    "copy_file(src_path, dstn_path)"
   ]
  },
  {
   "cell_type": "markdown",
   "metadata": {},
   "source": [
    "8. Write a Python program to delete file by specified path. Before deleting check for access and whether a given path exists or not."
   ]
  },
  {
   "cell_type": "code",
   "execution_count": 21,
   "metadata": {},
   "outputs": [
    {
     "name": "stdout",
     "output_type": "stream",
     "text": [
      "File 'file_to_delete.txt' deleted succefully\n"
     ]
    }
   ],
   "source": [
    "import os\n",
    "def delete_file(path):\n",
    "    if os.path.exists(path):\n",
    "        if os.access(path, os.W_OK):\n",
    "            os.remove(path)\n",
    "            print(f\"File '{path}' deleted succefully\")\n",
    "        else:\n",
    "            print(f\"No write access to '{path}'\")\n",
    "    else:\n",
    "        print(f\"The path '{path}' does not exist\")\n",
    "path = \"file_to_delete.txt\"\n",
    "delete_file(path)"
   ]
  }
 ],
 "metadata": {
  "kernelspec": {
   "display_name": "Python 3",
   "language": "python",
   "name": "python3"
  },
  "language_info": {
   "codemirror_mode": {
    "name": "ipython",
    "version": 3
   },
   "file_extension": ".py",
   "mimetype": "text/x-python",
   "name": "python",
   "nbconvert_exporter": "python",
   "pygments_lexer": "ipython3",
   "version": "3.9.6"
  }
 },
 "nbformat": 4,
 "nbformat_minor": 2
}
