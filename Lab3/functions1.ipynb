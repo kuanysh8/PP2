{
 "cells": [
  {
   "cell_type": "markdown",
   "metadata": {},
   "source": [
    "1. A recipe you are reading states how many grams you need for the ingredient. Unfortunately, your store only sells items in ounces. Create a function to convert grams to ounces. ounces = 28.3495231 * grams"
   ]
  },
  {
   "cell_type": "code",
   "execution_count": 1,
   "metadata": {},
   "outputs": [
    {
     "name": "stdout",
     "output_type": "stream",
     "text": [
      "2834.9523099999997\n"
     ]
    }
   ],
   "source": [
    "def grams_to_ounces(grams):\n",
    "    return 28.3495231 * grams\n",
    "\n",
    "if __name__ == '__main__':\n",
    "    print(grams_to_ounces(100))\n"
   ]
  },
  {
   "cell_type": "markdown",
   "metadata": {},
   "source": [
    "2. Read in a Fahrenheit temperature. Calculate and display the equivalent centigrade temperature. The following formula is used for the conversion: C = (5 / 9) * (F – 32)"
   ]
  },
  {
   "cell_type": "code",
   "execution_count": 3,
   "metadata": {},
   "outputs": [
    {
     "name": "stdout",
     "output_type": "stream",
     "text": [
      "48.88888888888889\n"
     ]
    }
   ],
   "source": [
    "def fahrenheit_to_centigrade(f):\n",
    "    return (5 / 9) * (f - 32)\n",
    "\n",
    "if __name__ == '__main__':\n",
    "    temp = float(input(\"Enter Fahrenheit: \"))\n",
    "    print(fahrenheit_to_centigrade(temp))\n"
   ]
  },
  {
   "cell_type": "markdown",
   "metadata": {},
   "source": [
    "3. Write a program to solve a classic puzzle: We count 35 heads and 94 legs among the chickens and rabbits in a farm. How many rabbits and how many chickens do we have? create function: solve(numheads, numlegs):"
   ]
  },
  {
   "cell_type": "code",
   "execution_count": 4,
   "metadata": {},
   "outputs": [
    {
     "name": "stdout",
     "output_type": "stream",
     "text": [
      "(23, 12)\n"
     ]
    }
   ],
   "source": [
    "def solve(numheads, numlegs):\n",
    "    chickens = 2 * numheads - numlegs // 2\n",
    "    rabbits = numheads - chickens\n",
    "    return chickens, rabbits\n",
    "\n",
    "if __name__ == '__main__':\n",
    "    print(solve(35, 94))\n"
   ]
  },
  {
   "cell_type": "markdown",
   "metadata": {},
   "source": [
    "4. You are given list of numbers separated by spaces. Write a function filter_prime which will take list of numbers as an agrument and returns only prime numbers from the list."
   ]
  },
  {
   "cell_type": "code",
   "execution_count": 5,
   "metadata": {},
   "outputs": [
    {
     "name": "stdout",
     "output_type": "stream",
     "text": [
      "[2, 3, 5, 7]\n"
     ]
    }
   ],
   "source": [
    "def filter_prime(nums):\n",
    "    def is_prime(n):\n",
    "        if n < 2:\n",
    "            return False\n",
    "        for i in range(2, int(n ** 0.5) + 1):\n",
    "            if n % i == 0:\n",
    "                return False\n",
    "        return True\n",
    "    return list(filter(lambda x: is_prime(x), nums))\n",
    "\n",
    "if __name__ == '__main__':\n",
    "    print(filter_prime([1, 2, 3, 4, 5, 6, 7, 8, 9, 10]))\n"
   ]
  },
  {
   "cell_type": "markdown",
   "metadata": {},
   "source": [
    "5. Write a function that accepts string from user and print all permutations of that string."
   ]
  },
  {
   "cell_type": "code",
   "execution_count": 6,
   "metadata": {},
   "outputs": [
    {
     "name": "stdout",
     "output_type": "stream",
     "text": [
      "Hello\n",
      "Helol\n",
      "Hello\n",
      "Helol\n",
      "Heoll\n",
      "Heoll\n",
      "Hlelo\n",
      "Hleol\n",
      "Hlleo\n",
      "Hlloe\n",
      "Hloel\n",
      "Hlole\n",
      "Hlelo\n",
      "Hleol\n",
      "Hlleo\n",
      "Hlloe\n",
      "Hloel\n",
      "Hlole\n",
      "Hoell\n",
      "Hoell\n",
      "Holel\n",
      "Holle\n",
      "Holel\n",
      "Holle\n",
      "eHllo\n",
      "eHlol\n",
      "eHllo\n",
      "eHlol\n",
      "eHoll\n",
      "eHoll\n",
      "elHlo\n",
      "elHol\n",
      "ellHo\n",
      "elloH\n",
      "eloHl\n",
      "elolH\n",
      "elHlo\n",
      "elHol\n",
      "ellHo\n",
      "elloH\n",
      "eloHl\n",
      "elolH\n",
      "eoHll\n",
      "eoHll\n",
      "eolHl\n",
      "eollH\n",
      "eolHl\n",
      "eollH\n",
      "lHelo\n",
      "lHeol\n",
      "lHleo\n",
      "lHloe\n",
      "lHoel\n",
      "lHole\n",
      "leHlo\n",
      "leHol\n",
      "lelHo\n",
      "leloH\n",
      "leoHl\n",
      "leolH\n",
      "llHeo\n",
      "llHoe\n",
      "lleHo\n",
      "lleoH\n",
      "lloHe\n",
      "lloeH\n",
      "loHel\n",
      "loHle\n",
      "loeHl\n",
      "loelH\n",
      "lolHe\n",
      "loleH\n",
      "lHelo\n",
      "lHeol\n",
      "lHleo\n",
      "lHloe\n",
      "lHoel\n",
      "lHole\n",
      "leHlo\n",
      "leHol\n",
      "lelHo\n",
      "leloH\n",
      "leoHl\n",
      "leolH\n",
      "llHeo\n",
      "llHoe\n",
      "lleHo\n",
      "lleoH\n",
      "lloHe\n",
      "lloeH\n",
      "loHel\n",
      "loHle\n",
      "loeHl\n",
      "loelH\n",
      "lolHe\n",
      "loleH\n",
      "oHell\n",
      "oHell\n",
      "oHlel\n",
      "oHlle\n",
      "oHlel\n",
      "oHlle\n",
      "oeHll\n",
      "oeHll\n",
      "oelHl\n",
      "oellH\n",
      "oelHl\n",
      "oellH\n",
      "olHel\n",
      "olHle\n",
      "oleHl\n",
      "olelH\n",
      "ollHe\n",
      "olleH\n",
      "olHel\n",
      "olHle\n",
      "oleHl\n",
      "olelH\n",
      "ollHe\n",
      "olleH\n"
     ]
    }
   ],
   "source": [
    "import itertools\n",
    "def permutations_of_string(s):\n",
    "    return [''.join(p) for p in itertools.permutations(s)]\n",
    "\n",
    "if __name__ == '__main__':\n",
    "    s = input()\n",
    "    for p in permutations_of_string(s):\n",
    "        print(p)\n"
   ]
  },
  {
   "cell_type": "markdown",
   "metadata": {},
   "source": [
    "6. Write a function that accepts string from user, return a sentence with the words reversed. We are ready -> ready are We"
   ]
  },
  {
   "cell_type": "code",
   "execution_count": 8,
   "metadata": {},
   "outputs": [
    {
     "name": "stdout",
     "output_type": "stream",
     "text": [
      "ready are We\n"
     ]
    }
   ],
   "source": [
    "def reverse_sentence(s):\n",
    "    return ' '.join(s.split()[::-1])\n",
    "\n",
    "if __name__ == '__main__':\n",
    "    s = input()\n",
    "    print(reverse_sentence(s))\n"
   ]
  },
  {
   "cell_type": "markdown",
   "metadata": {},
   "source": [
    "7. Given a list of ints, return True if the array contains a 3 next to a 3 somewhere."
   ]
  },
  {
   "cell_type": "code",
   "execution_count": 9,
   "metadata": {},
   "outputs": [
    {
     "name": "stdout",
     "output_type": "stream",
     "text": [
      "True\n",
      "False\n",
      "False\n"
     ]
    }
   ],
   "source": [
    "def has_33(nums):\n",
    "    for i in range(len(nums) - 1):\n",
    "        if nums[i] == 3 and nums[i + 1] == 3:\n",
    "            return True\n",
    "    return False\n",
    "\n",
    "if __name__ == '__main__':\n",
    "    print(has_33([1, 3, 3]))\n",
    "    print(has_33([1, 3, 1, 3]))\n",
    "    print(has_33([3, 1, 3]))\n"
   ]
  },
  {
   "cell_type": "markdown",
   "metadata": {},
   "source": [
    "8. Write a function that takes in a list of integers and returns True if it contains 007 in order"
   ]
  },
  {
   "cell_type": "code",
   "execution_count": 10,
   "metadata": {},
   "outputs": [
    {
     "name": "stdout",
     "output_type": "stream",
     "text": [
      "True\n",
      "True\n",
      "False\n"
     ]
    }
   ],
   "source": [
    "def spy_game(nums):\n",
    "    code = [0, 0, 7]\n",
    "    for num in nums:\n",
    "        if num == code[0]:\n",
    "            code.pop(0)\n",
    "        if not code:\n",
    "            return True\n",
    "    return False\n",
    "\n",
    "if __name__ == '__main__':\n",
    "    print(spy_game([1, 2, 4, 0, 0, 7, 5]))\n",
    "    print(spy_game([1, 0, 2, 4, 0, 5, 7]))\n",
    "    print(spy_game([1, 7, 2, 0, 4, 5, 0]))\n"
   ]
  },
  {
   "cell_type": "markdown",
   "metadata": {},
   "source": [
    "9. Write a function that computes the volume of a sphere given its radius."
   ]
  },
  {
   "cell_type": "code",
   "execution_count": 11,
   "metadata": {},
   "outputs": [
    {
     "name": "stdout",
     "output_type": "stream",
     "text": [
      "113.09733552923254\n"
     ]
    }
   ],
   "source": [
    "import math\n",
    "def volume_of_sphere(r):\n",
    "    return (4 / 3) * math.pi * r ** 3\n",
    "\n",
    "if __name__ == '__main__':\n",
    "    print(volume_of_sphere(3))\n"
   ]
  },
  {
   "cell_type": "markdown",
   "metadata": {},
   "source": [
    "10. Write a Python function that takes a list and returns a new list with unique elements of the first list. Note: don't use collection set."
   ]
  },
  {
   "cell_type": "code",
   "execution_count": 12,
   "metadata": {},
   "outputs": [
    {
     "name": "stdout",
     "output_type": "stream",
     "text": [
      "[1, 2, 3, 4, 5]\n"
     ]
    }
   ],
   "source": [
    "def unique_elements(lst):\n",
    "    unique = []\n",
    "    for item in lst:\n",
    "        if item not in unique:\n",
    "            unique.append(item)\n",
    "    return unique\n",
    "\n",
    "if __name__ == '__main__':\n",
    "    print(unique_elements([1, 2, 3, 2, 1, 4, 5, 3]))\n"
   ]
  },
  {
   "cell_type": "markdown",
   "metadata": {},
   "source": [
    "11. Write a Python function that checks whether a word or phrase is palindrome or not. Note: A palindrome is word, phrase, or sequence that reads the same backward as forward, e.g., madam"
   ]
  },
  {
   "cell_type": "code",
   "execution_count": 13,
   "metadata": {},
   "outputs": [
    {
     "name": "stdout",
     "output_type": "stream",
     "text": [
      "True\n",
      "False\n"
     ]
    }
   ],
   "source": [
    "def is_palindrome(s):\n",
    "    s = s.replace(\" \", \"\").lower()\n",
    "    return s == s[::-1]\n",
    "\n",
    "if __name__ == '__main__':\n",
    "    print(is_palindrome(\"madam\"))\n",
    "    print(is_palindrome(\"hello\"))\n"
   ]
  },
  {
   "cell_type": "markdown",
   "metadata": {},
   "source": [
    "12. Define a functino histogram() that takes a list of integers and prints a histogram to the screen. For example, histogram([4, 9, 7]) should print the following:"
   ]
  },
  {
   "cell_type": "code",
   "execution_count": 14,
   "metadata": {},
   "outputs": [
    {
     "name": "stdout",
     "output_type": "stream",
     "text": [
      "****\n",
      "*********\n",
      "*******\n"
     ]
    }
   ],
   "source": [
    "def histogram(lst):\n",
    "    for num in lst:\n",
    "        print('*' * num)\n",
    "\n",
    "if __name__ == '__main__':\n",
    "    histogram([4, 9, 7])\n"
   ]
  },
  {
   "cell_type": "markdown",
   "metadata": {},
   "source": [
    "13. Write a program able to play the \"Guess the number\" - game, where the number to be guessed is randomly chosen between 1 and 20. This is how it should work when run in a terminal:"
   ]
  },
  {
   "cell_type": "code",
   "execution_count": 15,
   "metadata": {},
   "outputs": [
    {
     "name": "stdout",
     "output_type": "stream",
     "text": [
      "Well, Kuanysh, I am thinking of a number between 1 and 20.\n",
      "Your guess is too low.\n",
      "Your guess is too low.\n",
      "Good job, Kuanysh! You guessed my number in 3 guesses!\n"
     ]
    }
   ],
   "source": [
    "import random\n",
    "def guess_number():\n",
    "    name = input(\"Hello! What is your name?\\n\")\n",
    "    print(\"Well, \" + name + \", I am thinking of a number between 1 and 20.\")\n",
    "    number = random.randint(1, 20)\n",
    "    guesses = 0\n",
    "    while True:\n",
    "        guess = int(input(\"Take a guess.\\n\"))\n",
    "        guesses += 1\n",
    "        if guess < number:\n",
    "            print(\"Your guess is too low.\")\n",
    "        elif guess > number:\n",
    "            print(\"Your guess is too high.\")\n",
    "        else:\n",
    "            print(\"Good job, \" + name + \"! You guessed my number in \" + str(guesses) + \" guesses!\")\n",
    "            break\n",
    "\n",
    "if __name__ == '__main__':\n",
    "    guess_number()\n"
   ]
  },
  {
   "cell_type": "markdown",
   "metadata": {},
   "source": [
    "14. Create a python file and import some of the functions from the above 13 tasks and try to use them."
   ]
  },
  {
   "cell_type": "code",
   "execution_count": 2,
   "metadata": {},
   "outputs": [
    {
     "name": "stdout",
     "output_type": "stream",
     "text": [
      "1417.4761549999998\n",
      "37.77777777777778\n",
      "(23, 12)\n",
      "[2, 3, 5, 7]\n"
     ]
    },
    {
     "name": "stdout",
     "output_type": "stream",
     "text": [
      "['Hello', 'Helol', 'Hello', 'Helol', 'Heoll', 'Heoll', 'Hlelo', 'Hleol', 'Hlleo', 'Hlloe', 'Hloel', 'Hlole', 'Hlelo', 'Hleol', 'Hlleo', 'Hlloe', 'Hloel', 'Hlole', 'Hoell', 'Hoell', 'Holel', 'Holle', 'Holel', 'Holle', 'eHllo', 'eHlol', 'eHllo', 'eHlol', 'eHoll', 'eHoll', 'elHlo', 'elHol', 'ellHo', 'elloH', 'eloHl', 'elolH', 'elHlo', 'elHol', 'ellHo', 'elloH', 'eloHl', 'elolH', 'eoHll', 'eoHll', 'eolHl', 'eollH', 'eolHl', 'eollH', 'lHelo', 'lHeol', 'lHleo', 'lHloe', 'lHoel', 'lHole', 'leHlo', 'leHol', 'lelHo', 'leloH', 'leoHl', 'leolH', 'llHeo', 'llHoe', 'lleHo', 'lleoH', 'lloHe', 'lloeH', 'loHel', 'loHle', 'loeHl', 'loelH', 'lolHe', 'loleH', 'lHelo', 'lHeol', 'lHleo', 'lHloe', 'lHoel', 'lHole', 'leHlo', 'leHol', 'lelHo', 'leloH', 'leoHl', 'leolH', 'llHeo', 'llHoe', 'lleHo', 'lleoH', 'lloHe', 'lloeH', 'loHel', 'loHle', 'loeHl', 'loelH', 'lolHe', 'loleH', 'oHell', 'oHell', 'oHlel', 'oHlle', 'oHlel', 'oHlle', 'oeHll', 'oeHll', 'oelHl', 'oellH', 'oelHl', 'oellH', 'olHel', 'olHle', 'oleHl', 'olelH', 'ollHe', 'olleH', 'olHel', 'olHle', 'oleHl', 'olelH', 'ollHe', 'olleH']\n",
      "Kuanysh is name My\n",
      "True\n",
      "True\n",
      "523.5987755982989\n",
      "[1, 2, 3, 4, 5]\n",
      "True\n",
      "****\n",
      "*********\n",
      "*******\n",
      "Well, Kuanysh, I am thinking of a number between 1 and 20.\n",
      "Your guess is too high.\n",
      "Your guess is too high.\n",
      "Your guess is too high.\n",
      "Your guess is too low.\n",
      "Good job, Kuanysh! You guessed my number in 5 guesses!\n"
     ]
    }
   ],
   "source": [
    "import nbimporter\n",
    "from functions1 import grams_to_ounces, fahrenheit_to_centigrade, solve, filter_prime, permutations_of_string, reverse_sentence, has_33, spy_game, volume_of_sphere, unique_elements, is_palindrome, histogram, guess_number\n",
    "\n",
    "if __name__ == '__main__':\n",
    "    print(grams_to_ounces(50))\n",
    "    print(fahrenheit_to_centigrade(100))\n",
    "    print(solve(35, 94))\n",
    "    print(filter_prime([1, 2, 3, 4, 5, 6, 7, 8, 9, 10]))\n",
    "    s = input(\"Enter a string for permutation: \")\n",
    "    print(permutations_of_string(s))\n",
    "    s = input(\"Enter a sentence to reverse: \")\n",
    "    print(reverse_sentence(s))\n",
    "    print(has_33([1, 3, 3]))\n",
    "    print(spy_game([1, 2, 4, 0, 0, 7, 5]))\n",
    "    print(volume_of_sphere(5))\n",
    "    print(unique_elements([1, 2, 2, 3, 4, 4, 5]))\n",
    "    print(is_palindrome(\"A man a plan a canal panama\"))\n",
    "    histogram([4, 9, 7])\n",
    "    guess_number()\n"
   ]
  }
 ],
 "metadata": {
  "kernelspec": {
   "display_name": "Python 3",
   "language": "python",
   "name": "python3"
  },
  "language_info": {
   "codemirror_mode": {
    "name": "ipython",
    "version": 3
   },
   "file_extension": ".py",
   "mimetype": "text/x-python",
   "name": "python",
   "nbconvert_exporter": "python",
   "pygments_lexer": "ipython3",
   "version": "3.9.6"
  }
 },
 "nbformat": 4,
 "nbformat_minor": 2
}
