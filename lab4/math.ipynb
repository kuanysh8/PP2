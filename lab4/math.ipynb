{
 "cells": [
  {
   "cell_type": "markdown",
   "metadata": {},
   "source": [
    "1. Write a Python program to convert degree to radian.\n",
    "    Input degree: 15\n",
    "    Output radian: 0.261904"
   ]
  },
  {
   "cell_type": "code",
   "execution_count": 6,
   "metadata": {},
   "outputs": [
    {
     "name": "stdout",
     "output_type": "stream",
     "text": [
      "15.0 degrees is 0.261799 radians\n"
     ]
    }
   ],
   "source": [
    "import math\n",
    "degree = float(input(\"Enter angle in degrees: \"))\n",
    "radian = math.radians(degree)\n",
    "print(f\"{degree} degrees is {radian:.6f} radians\")\n"
   ]
  },
  {
   "cell_type": "markdown",
   "metadata": {},
   "source": [
    "2. Write a Python program to calculate the area of a trapezoid.\n"
   ]
  },
  {
   "cell_type": "markdown",
   "metadata": {},
   "source": [
    "Height: 5\n",
    "Base, first value: 5\n",
    "Base, second value: 6\n",
    "Expected Output: 27.5"
   ]
  },
  {
   "cell_type": "code",
   "execution_count": 10,
   "metadata": {},
   "outputs": [
    {
     "name": "stdout",
     "output_type": "stream",
     "text": [
      "The area of trapezoid is: 27.5\n"
     ]
    }
   ],
   "source": [
    "import math\n",
    "height = int(input(\"Enter height: \"))\n",
    "base1 = int(input(\"Enter the first base: \"))\n",
    "base2 = int(input(\"Enter the second base: \"))\n",
    "\n",
    "if height <= 0 or base1 <= 0 or base2 <= 0:\n",
    "    print(\"Height and bases must be positive numbers\")\n",
    "else:\n",
    "    trapezoid_area = ((base1 + base2)/2) * height\n",
    "    print(f\"The area of trapezoid is: {trapezoid_area}\")"
   ]
  },
  {
   "cell_type": "markdown",
   "metadata": {},
   "source": [
    "3. Write a Python program to calculate the area of regular polygon."
   ]
  },
  {
   "cell_type": "code",
   "execution_count": 3,
   "metadata": {},
   "outputs": [
    {
     "name": "stdout",
     "output_type": "stream",
     "text": [
      "The area of the regular polygon is: 625\n"
     ]
    }
   ],
   "source": [
    "import math\n",
    "n = int(input(\"The number of sides: \"))\n",
    "s = int(input(\"Length of a side: \"))\n",
    "\n",
    "if n < 3 or s <= 0:\n",
    "    print(\"A polygon must have at least 3 sides and side length must be positive\")\n",
    "else:\n",
    "    area = (n * s**2) / (4 *math.tan(math.pi / n))\n",
    "    print(f\"The area of the regular polygon is: {area:.0f}\")"
   ]
  },
  {
   "cell_type": "markdown",
   "metadata": {},
   "source": [
    "4. Write a Python program to calculate the area of a parallelogram."
   ]
  },
  {
   "cell_type": "code",
   "execution_count": 5,
   "metadata": {},
   "outputs": [
    {
     "name": "stdout",
     "output_type": "stream",
     "text": [
      "The area of a parallelogram: 30.0\n"
     ]
    }
   ],
   "source": [
    "import math\n",
    "a = int(input(\"Length of base: \"))\n",
    "b = int(input(\"Height of parallelogram\"))\n",
    "\n",
    "if a > 0 and b > 0:\n",
    "    area = a * b\n",
    "    print(f\"The area of a parallelogram: {area:.1f}\")\n",
    "else:\n",
    "    print(\"The base and height must be bigger than 0\")"
   ]
  }
 ],
 "metadata": {
  "kernelspec": {
   "display_name": "Python 3",
   "language": "python",
   "name": "python3"
  },
  "language_info": {
   "codemirror_mode": {
    "name": "ipython",
    "version": 3
   },
   "file_extension": ".py",
   "mimetype": "text/x-python",
   "name": "python",
   "nbconvert_exporter": "python",
   "pygments_lexer": "ipython3",
   "version": "3.9.6"
  }
 },
 "nbformat": 4,
 "nbformat_minor": 2
}
