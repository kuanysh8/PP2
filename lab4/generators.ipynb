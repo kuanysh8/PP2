{
 "cells": [
  {
   "cell_type": "markdown",
   "metadata": {},
   "source": [
    "1. Create a generator that generates the squares of numbers up to some number N"
   ]
  },
  {
   "cell_type": "code",
   "execution_count": 1,
   "metadata": {},
   "outputs": [
    {
     "name": "stdout",
     "output_type": "stream",
     "text": [
      "Squares up to number 8:\n",
      "1\n",
      "4\n",
      "9\n",
      "16\n",
      "25\n",
      "36\n",
      "49\n",
      "64\n"
     ]
    }
   ],
   "source": [
    "def generate(N):\n",
    "    for i in range(1, N+1):\n",
    "        yield i * i\n",
    "\n",
    "N = int(input(\"Enter a number N: \"))\n",
    "\n",
    "print(f\"Squares up to number {N}:\")\n",
    "for square in generate(N):\n",
    "    print(square)"
   ]
  },
  {
   "cell_type": "markdown",
   "metadata": {},
   "source": [
    "2. Write a program using generator to print the even numbers between 0 and n in comma separated form where n is input from console."
   ]
  },
  {
   "cell_type": "code",
   "execution_count": 4,
   "metadata": {},
   "outputs": [
    {
     "name": "stdout",
     "output_type": "stream",
     "text": [
      "Even numbers from 0 to 8: 0, 2, 4, 6, 8\n"
     ]
    }
   ],
   "source": [
    "def generate(n):\n",
    "    for i in range(0, n+1, 2):\n",
    "        yield i\n",
    "\n",
    "n = int(input(\"Enter number n: \"))\n",
    "\n",
    "print(f\"Even numbers from 0 to {n}: {', '.join(str(num) for num in generate(n))}\")"
   ]
  },
  {
   "cell_type": "markdown",
   "metadata": {},
   "source": [
    "3. Define a function with a generator which can iterate the numbers, which are divisible by 3 and 4, between a given range 0 and n."
   ]
  },
  {
   "cell_type": "code",
   "execution_count": 6,
   "metadata": {},
   "outputs": [
    {
     "name": "stdout",
     "output_type": "stream",
     "text": [
      "Number that are divisible by 3 and 4 between 0 and 24:\n",
      "0\n",
      "12\n",
      "24\n"
     ]
    }
   ],
   "source": [
    "def generate(n):\n",
    "    for i in range(0, n+1):\n",
    "        if i % 3 == 0 and i % 4 == 0:\n",
    "            yield i\n",
    "\n",
    "n = int(input(\"Enter number n: \"))\n",
    "\n",
    "print(f\"Number that are divisible by 3 and 4 between 0 and {n}:\")\n",
    "for number in generate(n):\n",
    "    print(number)"
   ]
  },
  {
   "cell_type": "markdown",
   "metadata": {},
   "source": [
    "4. Implement a generator called squares to yield the square of all numbers from (a) to (b). Test it with a \"for\" loop and print each of the yielded values."
   ]
  },
  {
   "cell_type": "code",
   "execution_count": 7,
   "metadata": {},
   "outputs": [
    {
     "name": "stdout",
     "output_type": "stream",
     "text": [
      "Square of all numbers from 4 to 14:\n",
      "16\n",
      "25\n",
      "36\n",
      "49\n",
      "64\n",
      "81\n",
      "100\n",
      "121\n",
      "144\n",
      "169\n",
      "196\n"
     ]
    }
   ],
   "source": [
    "def squares(a, b):\n",
    "    for i in range(a, b+1):\n",
    "        yield i * i\n",
    "\n",
    "a = int(input(\"Enter number a: \"))\n",
    "b = int(input(\"Enter number b: \"))\n",
    "\n",
    "print(f\"Square of all numbers from {a} to {b}:\")\n",
    "\n",
    "for square in squares(a, b):\n",
    "    print(square)"
   ]
  },
  {
   "cell_type": "markdown",
   "metadata": {},
   "source": [
    "5. Implement a generator that returns all numbers from (n) down to 0."
   ]
  },
  {
   "cell_type": "code",
   "execution_count": 9,
   "metadata": {},
   "outputs": [
    {
     "name": "stdout",
     "output_type": "stream",
     "text": [
      "All numbers from 8 down to 0: \n",
      "8\n",
      "7\n",
      "6\n",
      "5\n",
      "4\n",
      "3\n",
      "2\n",
      "1\n",
      "0\n"
     ]
    }
   ],
   "source": [
    "def generator(n):\n",
    "    for i in range(n, -1, -1):\n",
    "        yield i\n",
    "\n",
    "n = int(input(\"Enter number n: \"))\n",
    "\n",
    "print(f\"All numbers from {n} down to 0: \")\n",
    "\n",
    "for number in generator(n):\n",
    "    print(number)"
   ]
  }
 ],
 "metadata": {
  "kernelspec": {
   "display_name": "Python 3",
   "language": "python",
   "name": "python3"
  },
  "language_info": {
   "codemirror_mode": {
    "name": "ipython",
    "version": 3
   },
   "file_extension": ".py",
   "mimetype": "text/x-python",
   "name": "python",
   "nbconvert_exporter": "python",
   "pygments_lexer": "ipython3",
   "version": "3.9.6"
  }
 },
 "nbformat": 4,
 "nbformat_minor": 2
}
