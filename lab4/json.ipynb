{
 "cells": [
  {
   "cell_type": "markdown",
   "metadata": {},
   "source": [
    "Using data file sample-data.json, create output that resembles the following by parsing the included JSON file."
   ]
  },
  {
   "cell_type": "code",
   "execution_count": 2,
   "metadata": {},
   "outputs": [
    {
     "name": "stdout",
     "output_type": "stream",
     "text": [
      "Interface Status\n",
      "================================================================================\n",
      "DN                                                 Description          Speed   MTU  \n",
      "--------------------------------------------------------------------------------\n",
      "topology/pod-1/node-201/sys/phys-[eth1/33]                              inherit 9150 \n",
      "topology/pod-1/node-201/sys/phys-[eth1/34]                              inherit 9150 \n",
      "topology/pod-1/node-201/sys/phys-[eth1/35]                              inherit 9150 \n"
     ]
    }
   ],
   "source": [
    "import json\n",
    "with open(\"sample-data.json\", \"r\") as file:\n",
    "    data = json.load(file)\n",
    "interfaces = data.get(\"imdata\", [])\n",
    "\n",
    "print(\"Interface Status\")\n",
    "print(\"=\" * 80)\n",
    "print(f\"{'DN':<50} {'Description':<20} {'Speed':<7} {'MTU':<5}\")\n",
    "print(\"-\" * 80)\n",
    "\n",
    "for item in interfaces:\n",
    "    attributes = item.get(\"l1PhysIf\", {}).get(\"attributes\", {})\n",
    "    dn = attributes.get(\"dn\", \"\")\n",
    "    description = attributes.get(\"descr\", \"\")\n",
    "    speed = attributes.get(\"speed\", \"inherit\")\n",
    "    mtu = attributes.get(\"mtu\", \"\")\n",
    "\n",
    "    print(f\"{dn:<50} {description:<20} {speed:<7} {mtu:<5}\")"
   ]
  }
 ],
 "metadata": {
  "kernelspec": {
   "display_name": "Python 3",
   "language": "python",
   "name": "python3"
  },
  "language_info": {
   "codemirror_mode": {
    "name": "ipython",
    "version": 3
   },
   "file_extension": ".py",
   "mimetype": "text/x-python",
   "name": "python",
   "nbconvert_exporter": "python",
   "pygments_lexer": "ipython3",
   "version": "3.9.6"
  }
 },
 "nbformat": 4,
 "nbformat_minor": 2
}
