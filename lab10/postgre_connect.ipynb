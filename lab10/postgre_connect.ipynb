{
 "cells": [
  {
   "cell_type": "code",
   "execution_count": 1,
   "id": "2f2c8321-ee7d-4ab9-a151-301d2cb8104f",
   "metadata": {},
   "outputs": [
    {
     "name": "stdout",
     "output_type": "stream",
     "text": [
      "Connected to: ('PostgreSQL 17.4 on x86_64-windows, compiled by msvc-19.42.34436, 64-bit',)\n"
     ]
    }
   ],
   "source": [
    "import psycopg2\n",
    "\n",
    "conn = psycopg2.connect(\n",
    "    dbname=\"mydb\",  # Replace with your database name\n",
    "    user=\"kuanysh\",    # Replace with your PostgreSQL username\n",
    "    password=\"240407\",# Replace with your PostgreSQL password\n",
    "    host=\"localhost\",        # Use the IP of the server if not local\n",
    "    port=\"5432\"              # Default PostgreSQL port\n",
    ")\n",
    "\n",
    "# Create a cursor object to interact with the database\n",
    "cur = conn.cursor()\n",
    "\n",
    "# Execute a query\n",
    "cur.execute(\"SELECT version();\")\n",
    "\n",
    "# Fetch and print the result\n",
    "db_version = cur.fetchone()\n",
    "print(\"Connected to:\", db_version)\n",
    "\n",
    "# Close the connection\n",
    "cur.close()\n",
    "conn.close()\n"
   ]
  },
  {
   "cell_type": "code",
   "execution_count": 2,
   "id": "4aae245f-7e56-416a-bbe6-a54889322512",
   "metadata": {},
   "outputs": [],
   "source": [
    "def get_connection():\n",
    "    conn = psycopg2.connect(\n",
    "    dbname=\"mydb\",  # Replace with your database name\n",
    "    user=\"kuanysh\",    # Replace with your PostgreSQL username\n",
    "    password=\"240407\",# Replace with your PostgreSQL password\n",
    "    host=\"localhost\",        # Use the IP of the server if not local\n",
    "    port=\"5432\"              # Default PostgreSQL port\n",
    ")\n",
    "    return conn"
   ]
  },
  {
   "cell_type": "code",
   "execution_count": 3,
   "id": "4f859c39-fa67-4f59-9b07-77862262b8c4",
   "metadata": {
    "scrolled": true
   },
   "outputs": [
    {
     "name": "stdout",
     "output_type": "stream",
     "text": [
      "Tables: ['pg_type', 'pg_foreign_table', 'pg_roles', 'pg_settings', 'pg_tables', 'pg_statio_all_sequences', 'pg_subscription', 'pg_attribute', 'pg_proc', 'pg_class', 'pg_attrdef', 'pg_statio_sys_sequences', 'pg_statio_user_sequences', 'pg_constraint', 'pg_inherits', 'pg_index', 'pg_operator', 'pg_opfamily', 'pg_opclass', 'pg_am', 'pg_amop', 'pg_amproc', 'pg_language', 'pg_largeobject_metadata', 'pg_aggregate', 'pg_statistic_ext', 'pg_rewrite', 'pg_trigger', 'pg_event_trigger', 'pg_description', 'pg_cast', 'pg_enum', 'pg_namespace', 'pg_conversion', 'pg_depend', 'pg_database', 'pg_db_role_setting', 'pg_tablespace', 'pg_auth_members', 'pg_shdepend', 'pg_shdescription', 'pg_ts_config', 'pg_ts_config_map', 'pg_ts_dict', 'pg_ts_parser', 'pg_ts_template', 'pg_extension', 'pg_foreign_data_wrapper', 'pg_foreign_server', 'pg_policy', 'pg_replication_origin', 'pg_default_acl', 'pg_init_privs', 'pg_seclabel', 'pg_shseclabel', 'pg_collation', 'pg_parameter_acl', 'pg_partitioned_table', 'pg_range', 'pg_transform', 'pg_sequence', 'pg_publication', 'pg_publication_namespace', 'pg_publication_rel', 'pg_subscription_rel', 'pg_group', 'pg_user', 'pg_policies', 'pg_rules', 'pg_views', 'pg_matviews', 'pg_indexes', 'pg_sequences', 'pg_stats', 'pg_stats_ext', 'pg_stats_ext_exprs', 'pg_publication_tables', 'pg_locks', 'pg_cursors', 'pg_available_extensions', 'pg_available_extension_versions', 'pg_prepared_xacts', 'pg_prepared_statements', 'pg_seclabels', 'pg_timezone_abbrevs', 'pg_timezone_names', 'pg_stat_all_tables', 'pg_stat_xact_all_tables', 'pg_stat_xact_user_tables', 'pg_stat_sys_tables', 'pg_stat_xact_sys_tables', 'pg_stat_user_tables', 'pg_statio_all_tables', 'pg_statio_sys_tables', 'pg_statio_user_tables', 'pg_stat_all_indexes', 'pg_stat_sys_indexes', 'pg_stat_user_indexes', 'pg_statio_all_indexes', 'pg_statio_sys_indexes', 'pg_statio_user_indexes', 'pg_stat_activity', 'pg_stat_replication', 'pg_stat_slru', 'pg_stat_wal_receiver', 'pg_stat_recovery_prefetch', 'pg_stat_subscription', 'pg_stat_ssl', 'pg_stat_gssapi', 'pg_replication_slots', 'pg_stat_replication_slots', 'pg_stat_database', 'pg_stat_database_conflicts', 'pg_stat_user_functions', 'pg_stat_xact_user_functions', 'pg_stat_archiver', 'pg_stat_bgwriter', 'pg_stat_checkpointer', 'pg_stat_io', 'pg_stat_wal', 'pg_stat_progress_analyze', 'pg_stat_progress_vacuum', 'pg_stat_progress_cluster', 'pg_stat_progress_create_index', 'pg_stat_progress_basebackup', 'pg_stat_progress_copy', 'pg_user_mappings', 'pg_stat_subscription_stats', 'pg_wait_events', 'column_column_usage', 'information_schema_catalog_name', 'check_constraints', 'applicable_roles', 'administrable_role_authorizations', 'attributes', 'collations', 'character_sets', 'check_constraint_routine_usage', 'column_privileges', 'collation_character_set_applicability', 'column_domain_usage', 'column_udt_usage', 'columns', 'constraint_column_usage', 'constraint_table_usage', 'domain_constraints', 'routine_table_usage', 'domain_udt_usage', 'domains', 'enabled_roles', 'routines', 'key_column_usage', 'parameters', 'referential_constraints', 'schemata', 'role_column_grants', 'routine_column_usage', 'routine_privileges', 'sequences', 'role_routine_grants', 'routine_routine_usage', 'routine_sequence_usage', 'sql_features', 'sql_implementation_info', 'role_table_grants', 'sql_sizing', 'table_privileges', 'table_constraints', 'tables', 'triggered_update_columns', 'triggers', 'udt_privileges', 'role_udt_grants', 'usage_privileges', 'foreign_tables', 'role_usage_grants', 'foreign_data_wrapper_options', 'user_defined_types', 'view_column_usage', 'view_routine_usage', 'foreign_data_wrappers', 'view_table_usage', 'views', 'data_type_privileges', 'element_types', 'column_options', 'foreign_server_options', 'foreign_servers', 'foreign_table_options', 'user_mapping_options', 'user_mappings']\n"
     ]
    }
   ],
   "source": [
    "cur = get_connection().cursor()\n",
    "\n",
    "cur.execute(\"SELECT table_name FROM information_schema.tables;\")\n",
    "tables = cur.fetchall()\n",
    "\n",
    "print(\"Tables:\", [table[0] for table in tables])\n",
    "\n",
    "cur.close()\n",
    "conn.close()\n"
   ]
  },
  {
   "cell_type": "code",
   "execution_count": 5,
   "id": "a32340f4-3d77-420f-831d-04791e24c193",
   "metadata": {},
   "outputs": [
    {
     "ename": "InsufficientPrivilege",
     "evalue": "ОШИБКА:  нет доступа к схеме public\nLINE 2:     CREATE TABLE IF NOT EXISTS snake_game2 (\n                                       ^\n",
     "output_type": "error",
     "traceback": [
      "\u001b[1;31m---------------------------------------------------------------------------\u001b[0m",
      "\u001b[1;31mInsufficientPrivilege\u001b[0m                     Traceback (most recent call last)",
      "Cell \u001b[1;32mIn[5], line 5\u001b[0m\n\u001b[0;32m      2\u001b[0m cur \u001b[38;5;241m=\u001b[39m conn\u001b[38;5;241m.\u001b[39mcursor()\n\u001b[0;32m      4\u001b[0m \u001b[38;5;66;03m# Create the table\u001b[39;00m\n\u001b[1;32m----> 5\u001b[0m \u001b[43mcur\u001b[49m\u001b[38;5;241;43m.\u001b[39;49m\u001b[43mexecute\u001b[49m\u001b[43m(\u001b[49m\u001b[38;5;124;43m\"\"\"\u001b[39;49m\n\u001b[0;32m      6\u001b[0m \u001b[38;5;124;43m    CREATE TABLE IF NOT EXISTS snake_game2 (\u001b[39;49m\n\u001b[0;32m      7\u001b[0m \u001b[38;5;124;43m        game_id SERIAL PRIMARY KEY,\u001b[39;49m\n\u001b[0;32m      8\u001b[0m \u001b[38;5;124;43m        player_name VARCHAR(50) NOT NULL,\u001b[39;49m\n\u001b[0;32m      9\u001b[0m \u001b[38;5;124;43m        score INT NOT NULL DEFAULT 0,\u001b[39;49m\n\u001b[0;32m     10\u001b[0m \u001b[38;5;124;43m        duration_seconds INT NOT NULL,\u001b[39;49m\n\u001b[0;32m     11\u001b[0m \u001b[38;5;124;43m        game_date TIMESTAMP DEFAULT CURRENT_TIMESTAMP\u001b[39;49m\n\u001b[0;32m     12\u001b[0m \u001b[38;5;124;43m    );\u001b[39;49m\n\u001b[0;32m     13\u001b[0m \u001b[38;5;124;43m\"\"\"\u001b[39;49m\u001b[43m)\u001b[49m\n\u001b[0;32m     15\u001b[0m conn\u001b[38;5;241m.\u001b[39mcommit()\n\u001b[0;32m     16\u001b[0m \u001b[38;5;28mprint\u001b[39m(\u001b[38;5;124m\"\u001b[39m\u001b[38;5;124mSnake game table created successfully!\u001b[39m\u001b[38;5;124m\"\u001b[39m)\n",
      "\u001b[1;31mInsufficientPrivilege\u001b[0m: ОШИБКА:  нет доступа к схеме public\nLINE 2:     CREATE TABLE IF NOT EXISTS snake_game2 (\n                                       ^\n"
     ]
    }
   ],
   "source": [
    "conn = get_connection()\n",
    "cur = conn.cursor()\n",
    "\n",
    "# Create the table\n",
    "cur.execute(\"\"\"\n",
    "    CREATE TABLE IF NOT EXISTS snake_game2 (\n",
    "        game_id SERIAL PRIMARY KEY,\n",
    "        player_name VARCHAR(50) NOT NULL,\n",
    "        score INT NOT NULL DEFAULT 0,\n",
    "        duration_seconds INT NOT NULL,\n",
    "        game_date TIMESTAMP DEFAULT CURRENT_TIMESTAMP\n",
    "    );\n",
    "\"\"\")\n",
    "\n",
    "conn.commit()\n",
    "print(\"Snake game table created successfully!\")\n",
    "\n",
    "cur.close()\n",
    "conn.close()\n"
   ]
  },
  {
   "cell_type": "code",
   "execution_count": 31,
   "id": "b01ac2c5-046a-426d-a283-9881b276ac37",
   "metadata": {},
   "outputs": [],
   "source": [
    "conn = get_connection()\n",
    "cur = conn.cursor()\n",
    "\n",
    "# Execute the query\n",
    "cur.execute(\"SELECT * FROM snake_game2;\")\n",
    "\n",
    "# Fetch and print all rows\n",
    "rows = cur.fetchall()\n",
    "for row in rows:\n",
    "    print(row)\n",
    "\n",
    "cur.close()\n",
    "conn.close()\n"
   ]
  },
  {
   "cell_type": "code",
   "execution_count": 32,
   "id": "934e1e2e-2542-4fb1-9006-0911af2aa0bd",
   "metadata": {},
   "outputs": [
    {
     "name": "stdout",
     "output_type": "stream",
     "text": [
      "Provide your name:  Samat\n",
      "Provide your score:  100\n",
      "Provide the duration:  500\n"
     ]
    }
   ],
   "source": [
    "name = input('Provide your name: ')\n",
    "score = int(input('Provide your score: '))\n",
    "duration_seconds = int(input('Provide the duration: '))"
   ]
  },
  {
   "cell_type": "markdown",
   "id": "b427ae8f-7ab8-4a5a-b514-5ead2bd3e927",
   "metadata": {},
   "source": [
    "## Insert values"
   ]
  },
  {
   "cell_type": "code",
   "execution_count": 107,
   "id": "c6d7db08-36c0-4d13-896f-854b8b6d702c",
   "metadata": {},
   "outputs": [
    {
     "data": {
      "text/plain": [
       "(5, 'Test', 100, 50, '2024-04-01')"
      ]
     },
     "execution_count": 107,
     "metadata": {},
     "output_type": "execute_result"
    }
   ],
   "source": [
    "(5, name, score, duration_seconds, '2024-04-01')"
   ]
  },
  {
   "cell_type": "code",
   "execution_count": 35,
   "id": "4f323fe3-94d9-4cfa-99ec-1e3e8b4cd4d1",
   "metadata": {},
   "outputs": [
    {
     "name": "stdout",
     "output_type": "stream",
     "text": [
      "Data inserted successfully!\n"
     ]
    }
   ],
   "source": [
    "conn = get_connection()\n",
    "cur = conn.cursor()\n",
    "\n",
    "# Insert data\n",
    "cur.execute(\"\"\"\n",
    "    INSERT INTO snake_game2 (game_id, player_name, score, duration_seconds, game_date) \n",
    "    VALUES (%s, %s, %s, %s, %s)\n",
    "\"\"\", (2, name, score, duration_seconds, '2025-04-11'))\n",
    "\n",
    "# Commit and close\n",
    "conn.commit()\n",
    "cur.close()\n",
    "conn.close()\n",
    "\n",
    "print(\"Data inserted successfully!\")\n"
   ]
  },
  {
   "cell_type": "code",
   "execution_count": 36,
   "id": "e947f961-aa8e-448a-8dce-65f58b0acc9f",
   "metadata": {},
   "outputs": [
    {
     "name": "stdout",
     "output_type": "stream",
     "text": [
      "(1, 'Samat', 100, 500, datetime.datetime(2025, 4, 11, 0, 0))\n",
      "(2, 'Samat', 100, 500, datetime.datetime(2025, 4, 11, 0, 0))\n"
     ]
    }
   ],
   "source": [
    "conn = get_connection()\n",
    "cur = conn.cursor()\n",
    "\n",
    "# Execute the query\n",
    "cur.execute(\"SELECT * FROM snake_game2;\")\n",
    "\n",
    "# Fetch and print all rows\n",
    "rows = cur.fetchall()\n",
    "for row in rows:\n",
    "    print(row)\n",
    "\n",
    "cur.close()\n",
    "conn.close()\n"
   ]
  },
  {
   "cell_type": "code",
   "execution_count": 37,
   "id": "7b589932-1b9a-4a18-9f54-a2c54c1cbf48",
   "metadata": {},
   "outputs": [],
   "source": [
    "import datetime\n",
    "game_date = datetime.datetime.now()"
   ]
  },
  {
   "cell_type": "code",
   "execution_count": 38,
   "id": "d64a4bc5-90e0-49ca-a1af-0c4e353685ba",
   "metadata": {},
   "outputs": [
    {
     "data": {
      "text/plain": [
       "datetime.datetime(2025, 4, 11, 12, 30, 14, 44228)"
      ]
     },
     "execution_count": 38,
     "metadata": {},
     "output_type": "execute_result"
    }
   ],
   "source": [
    "game_date"
   ]
  },
  {
   "cell_type": "code",
   "execution_count": 39,
   "id": "0c19889f-1683-4704-a123-34b7a6aeacbb",
   "metadata": {},
   "outputs": [
    {
     "name": "stdout",
     "output_type": "stream",
     "text": [
      "Data inserted successfully!\n"
     ]
    }
   ],
   "source": [
    "\n",
    "\n",
    "conn = get_connection()\n",
    "cur = conn.cursor()\n",
    "\n",
    "# Insert data\n",
    "cur.execute(\"\"\"\n",
    "    INSERT INTO snake_game2 (game_id, player_name, score, duration_seconds, game_date) \n",
    "    VALUES (%s, %s, %s, %s, %s)\n",
    "\"\"\", (3, 'Will', 150, 4, game_date))\n",
    "\n",
    "# Commit and close\n",
    "conn.commit()\n",
    "cur.close()\n",
    "conn.close()\n",
    "\n",
    "print(\"Data inserted successfully!\")\n"
   ]
  },
  {
   "cell_type": "markdown",
   "id": "b76e10c7-f7bb-4f3f-8202-79d8b076fc9c",
   "metadata": {},
   "source": [
    "## Truncate table "
   ]
  },
  {
   "cell_type": "code",
   "execution_count": 40,
   "id": "2b0a57b4-e260-4a23-ac36-9d13ef508a1b",
   "metadata": {},
   "outputs": [
    {
     "name": "stdout",
     "output_type": "stream",
     "text": [
      "Table truncated and data inserted successfully!\n"
     ]
    }
   ],
   "source": [
    "conn = get_connection()\n",
    "cur = conn.cursor()\n",
    "\n",
    "# Truncate the table\n",
    "cur.execute(\"TRUNCATE TABLE snake_game2 RESTART IDENTITY CASCADE\")\n",
    "\n",
    "# Insert data\n",
    "cur.execute(\"\"\"\n",
    "    INSERT INTO snake_game2 (game_id, player_name, score, duration_seconds, game_date) \n",
    "    VALUES (%s, %s, %s, %s, %s)\n",
    "\"\"\", (5, name, score, duration_seconds, '2024-04-01'))\n",
    "\n",
    "# Commit and close\n",
    "conn.commit()\n",
    "cur.close()\n",
    "conn.close()\n",
    "\n",
    "print(\"Table truncated and data inserted successfully!\")\n"
   ]
  },
  {
   "cell_type": "markdown",
   "id": "376a7d6e-77a6-4444-a9fc-68d18542167f",
   "metadata": {},
   "source": [
    "## Insert data from csv"
   ]
  },
  {
   "cell_type": "code",
   "execution_count": 41,
   "id": "2d6256dd-6bd5-4627-8633-bc1146b52c3b",
   "metadata": {},
   "outputs": [],
   "source": [
    "import csv"
   ]
  },
  {
   "cell_type": "code",
   "execution_count": 42,
   "id": "bca04422-e0b1-42fd-a0ec-cfe740d66261",
   "metadata": {},
   "outputs": [
    {
     "data": {
      "text/plain": [
       "'/Users/user/Documents/KBTU_WORK/pp2/Lecture_notes/week_13'"
      ]
     },
     "execution_count": 42,
     "metadata": {},
     "output_type": "execute_result"
    }
   ],
   "source": [
    "import os\n",
    "os.getcwd()"
   ]
  },
  {
   "cell_type": "code",
   "execution_count": null,
   "id": "d34ad4a3-6897-4c25-9779-098f268663f1",
   "metadata": {},
   "outputs": [],
   "source": [
    "/Users/user/Documents/KBTU_WORK/pp2/Lecture_notes/week_13/file_csv.txt"
   ]
  },
  {
   "cell_type": "code",
   "execution_count": null,
   "id": "0344f7a9-573f-4533-a547-e387b92da7d2",
   "metadata": {},
   "outputs": [],
   "source": [
    "psql -U myuser -d new_database -c \"\\copy snake_game2 FROM '/Users/user/Documents/KBTU_WORK/pp2/Lecture_notes/week_13/file_csv.txt' DELIMITER ',' CSV HEADER;\"\n",
    "\n"
   ]
  },
  {
   "cell_type": "code",
   "execution_count": 43,
   "id": "4f36be01-0e96-4ffb-9bdf-f93bb338af25",
   "metadata": {},
   "outputs": [
    {
     "name": "stdout",
     "output_type": "stream",
     "text": [
      "CSV data exported successfully\n"
     ]
    }
   ],
   "source": [
    "conn = get_connection()\n",
    "cur = conn.cursor()\n",
    "\n",
    "# Open the CSV file\n",
    "with open('file_csv.txt', 'r') as f:\n",
    "    reader = csv.reader(f)\n",
    "    next(reader)  # Skip header if present\n",
    "\n",
    "    for row in reader:\n",
    "        cur.execute(\n",
    "            '''INSERT INTO snake_game2 (game_id, player_name, score, duration_seconds, game_date) \n",
    "    VALUES (%s, %s, %s, %s, %s)''',\n",
    "            row\n",
    "        )\n",
    "\n",
    "conn.commit()\n",
    "cur.close()\n",
    "conn.close()\n",
    "print('CSV data exported successfully')"
   ]
  },
  {
   "cell_type": "code",
   "execution_count": 70,
   "id": "5373ae9e-c620-4c4d-90f4-6fcb13c7a820",
   "metadata": {},
   "outputs": [],
   "source": [
    "l1 = [2,4,3]\n",
    "l2 = [5,6,4]\n",
    "# [7,0,8]\n",
    "# 342 + 465 = 807"
   ]
  },
  {
   "cell_type": "code",
   "execution_count": 71,
   "id": "7580c022-00cd-45a2-9c0e-68a694165e73",
   "metadata": {},
   "outputs": [],
   "source": [
    "def get_sum(l1, l2):\n",
    "    n1 = ''\n",
    "    n2 = ''\n",
    "    for a,b in zip(l1, l2):\n",
    "        n1 = str(a) +n1\n",
    "        n2 = str(b) +n2\n",
    "    print(n1)\n",
    "    print(n2)\n",
    "    result = int(n1) + int(n2)\n",
    "    result = list(str(result))\n",
    "    result.reverse()\n",
    "    return result"
   ]
  },
  {
   "cell_type": "code",
   "execution_count": 72,
   "id": "7385ca20-98d3-4975-ac18-cd8beb853725",
   "metadata": {},
   "outputs": [
    {
     "name": "stdout",
     "output_type": "stream",
     "text": [
      "342\n",
      "465\n"
     ]
    },
    {
     "data": {
      "text/plain": [
       "['7', '0', '8']"
      ]
     },
     "execution_count": 72,
     "metadata": {},
     "output_type": "execute_result"
    }
   ],
   "source": [
    "get_sum(l1,l2)"
   ]
  }
 ],
 "metadata": {
  "kernelspec": {
   "display_name": "Python 3",
   "language": "python",
   "name": "python3"
  },
  "language_info": {
   "codemirror_mode": {
    "name": "ipython",
    "version": 3
   },
   "file_extension": ".py",
   "mimetype": "text/x-python",
   "name": "python",
   "nbconvert_exporter": "python",
   "pygments_lexer": "ipython3",
   "version": "3.9.6"
  }
 },
 "nbformat": 4,
 "nbformat_minor": 5
}
